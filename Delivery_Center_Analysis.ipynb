{
 "cells": [
  {
   "cell_type": "markdown",
   "id": "976ff57b",
   "metadata": {
    "id": "976ff57b"
   },
   "source": [
    "# Mini Projeto para Avaliação em Processo Seletivo \n",
    "# Delivery Center\n",
    "##### Autora: Raissa da Silva de Menezes Korehisa\n",
    "##### Cargo Pretendido: Analista de Dados Junior (Remoto) "
   ]
  },
  {
   "cell_type": "code",
   "execution_count": 2,
   "id": "z0iqmBAU29Ah",
   "metadata": {
    "colab": {
     "base_uri": "https://localhost:8080/"
    },
    "id": "z0iqmBAU29Ah",
    "outputId": "eef7c7ce-237c-4e34-e165-26dfa83a9398"
   },
   "outputs": [],
   "source": [
    "#Permitindo a utilização de dados do google drive\n",
    "#from google.colab import drive\n",
    "#drive.mount('/content/drive/', force_remount=True)\n"
   ]
  },
  {
   "cell_type": "code",
   "execution_count": 81,
   "id": "44627465",
   "metadata": {
    "id": "44627465"
   },
   "outputs": [],
   "source": [
    "# Importações de bibliotecas\n",
    "\n",
    "# Manipulação e visualização de dados:\n",
    "\n",
    "import sklearn\n",
    "import datetime\n",
    "import numpy as np\n",
    "import pandas as pd\n",
    "import seaborn as sns \n",
    "import matplotlib as m\n",
    "import matplotlib.pyplot as plt\n",
    "import plotly\n",
    "import plotly.graph_objs as go"
   ]
  },
  {
   "cell_type": "code",
   "execution_count": 4,
   "id": "OsGrgznq_ca6",
   "metadata": {
    "colab": {
     "base_uri": "https://localhost:8080/"
    },
    "id": "OsGrgznq_ca6",
    "outputId": "5873863a-f157-4b83-e4ec-9e96b298a980"
   },
   "outputs": [],
   "source": [
    "#Para utilização no Google Colab\n",
    "#from google.colab import drive\n",
    "#drive.mount('/content/drive')\n",
    "#mount_dir = 'drive/MyDrive/datalab-work-at-deliverycenter'"
   ]
  },
  {
   "cell_type": "markdown",
   "id": "ac3c2ec0",
   "metadata": {
    "id": "ac3c2ec0"
   },
   "source": [
    "### Carga de  dados"
   ]
  },
  {
   "cell_type": "code",
   "execution_count": 5,
   "id": "aafe040e",
   "metadata": {
    "colab": {
     "base_uri": "https://localhost:8080/",
     "height": 443
    },
    "id": "aafe040e",
    "outputId": "b1619de7-4790-44a7-f264-f23968f89600"
   },
   "outputs": [],
   "source": [
    "#Carregando os datasets:\n",
    "df_channels = pd.read_csv(\"datasets/channels.csv\")\n",
    "df_deliveries = pd.read_csv(\"datasets/deliveries.csv\")\n",
    "df_drivers = pd.read_csv(\"datasets/drivers.csv\")\n",
    "df_hubs = pd.read_csv(\"datasets/hubs.csv\", encoding = \"ISO-8859-1\", engine='python')\n",
    "df_orders = pd.read_csv(\"datasets/orders.csv\")\n",
    "df_payments = pd.read_csv(\"datasets/payments.csv\")\n",
    "df_stores = pd.read_csv(\"datasets/stores.csv\", encoding = \"ISO-8859-1\", engine='python')"
   ]
  },
  {
   "cell_type": "markdown",
   "id": "0bb71fb8",
   "metadata": {
    "id": "0bb71fb8"
   },
   "source": [
    "## Análise Descritiva \n",
    "Nesta seção os Data Frames serão visualizados e serão feitas algumas análises para compreensão dos dados, contextualização hipóteses ou subsidio na criação de KPIs."
   ]
  },
  {
   "cell_type": "markdown",
   "id": "vpwjFql0942v",
   "metadata": {
    "id": "vpwjFql0942v"
   },
   "source": [
    "#### **Channels**"
   ]
  },
  {
   "cell_type": "code",
   "execution_count": 6,
   "id": "6dbe731c",
   "metadata": {
    "colab": {
     "base_uri": "https://localhost:8080/",
     "height": 204
    },
    "id": "6dbe731c",
    "outputId": "a8dcf6a2-ded0-4d0c-f23d-186ca782349a"
   },
   "outputs": [
    {
     "data": {
      "text/html": [
       "<div>\n",
       "<style scoped>\n",
       "    .dataframe tbody tr th:only-of-type {\n",
       "        vertical-align: middle;\n",
       "    }\n",
       "\n",
       "    .dataframe tbody tr th {\n",
       "        vertical-align: top;\n",
       "    }\n",
       "\n",
       "    .dataframe thead th {\n",
       "        text-align: right;\n",
       "    }\n",
       "</style>\n",
       "<table border=\"1\" class=\"dataframe\">\n",
       "  <thead>\n",
       "    <tr style=\"text-align: right;\">\n",
       "      <th></th>\n",
       "      <th>channel_id</th>\n",
       "      <th>channel_name</th>\n",
       "      <th>channel_type</th>\n",
       "    </tr>\n",
       "  </thead>\n",
       "  <tbody>\n",
       "    <tr>\n",
       "      <th>0</th>\n",
       "      <td>1</td>\n",
       "      <td>OTHER PLACE</td>\n",
       "      <td>OWN CHANNEL</td>\n",
       "    </tr>\n",
       "    <tr>\n",
       "      <th>1</th>\n",
       "      <td>2</td>\n",
       "      <td>PHONE PLACE</td>\n",
       "      <td>OWN CHANNEL</td>\n",
       "    </tr>\n",
       "    <tr>\n",
       "      <th>2</th>\n",
       "      <td>3</td>\n",
       "      <td>WHATS PLACE</td>\n",
       "      <td>OWN CHANNEL</td>\n",
       "    </tr>\n",
       "    <tr>\n",
       "      <th>3</th>\n",
       "      <td>4</td>\n",
       "      <td>FACE PLACE</td>\n",
       "      <td>OWN CHANNEL</td>\n",
       "    </tr>\n",
       "    <tr>\n",
       "      <th>4</th>\n",
       "      <td>5</td>\n",
       "      <td>FOOD PLACE</td>\n",
       "      <td>MARKETPLACE</td>\n",
       "    </tr>\n",
       "  </tbody>\n",
       "</table>\n",
       "</div>"
      ],
      "text/plain": [
       "   channel_id channel_name channel_type\n",
       "0           1  OTHER PLACE  OWN CHANNEL\n",
       "1           2  PHONE PLACE  OWN CHANNEL\n",
       "2           3  WHATS PLACE  OWN CHANNEL\n",
       "3           4   FACE PLACE  OWN CHANNEL\n",
       "4           5   FOOD PLACE  MARKETPLACE"
      ]
     },
     "execution_count": 6,
     "metadata": {},
     "output_type": "execute_result"
    }
   ],
   "source": [
    "#Visualizando dados \n",
    "df_channels.head()"
   ]
  },
  {
   "cell_type": "code",
   "execution_count": 7,
   "id": "f8738947",
   "metadata": {
    "colab": {
     "base_uri": "https://localhost:8080/"
    },
    "id": "f8738947",
    "outputId": "27d269f4-6707-4ebc-fa33-6b1c7ab13c94"
   },
   "outputs": [
    {
     "data": {
      "text/plain": [
       "channel_id      40\n",
       "channel_name    40\n",
       "channel_type     2\n",
       "dtype: int64"
      ]
     },
     "execution_count": 7,
     "metadata": {},
     "output_type": "execute_result"
    }
   ],
   "source": [
    "#Verificanco valores únicos \n",
    "df_channels.nunique()"
   ]
  },
  {
   "cell_type": "code",
   "execution_count": 8,
   "id": "abb1eb02",
   "metadata": {
    "colab": {
     "base_uri": "https://localhost:8080/",
     "height": 265
    },
    "id": "abb1eb02",
    "outputId": "8ad64850-7e0b-4096-fc8b-4019cdb9a35b"
   },
   "outputs": [
    {
     "data": {
      "text/plain": [
       "<AxesSubplot:ylabel='channel_type'>"
      ]
     },
     "execution_count": 8,
     "metadata": {},
     "output_type": "execute_result"
    },
    {
     "data": {
      "image/png": "[encoded data removed]",
      "text/plain": [
       "<Figure size 432x288 with 1 Axes>"
      ]
     },
     "metadata": {},
     "output_type": "display_data"
    }
   ],
   "source": [
    "# Distribuição dos canais por tipo\n",
    "df_channels['channel_type'].value_counts().plot.pie(autopct='%1.0f%%')"
   ]
  },
  {
   "cell_type": "markdown",
   "id": "l6KQ38Qz-EFb",
   "metadata": {
    "id": "l6KQ38Qz-EFb"
   },
   "source": [
    "#### **Deliveries**"
   ]
  },
  {
   "cell_type": "code",
   "execution_count": 9,
   "id": "a5ae5b96",
   "metadata": {
    "colab": {
     "base_uri": "https://localhost:8080/",
     "height": 204
    },
    "id": "a5ae5b96",
    "outputId": "d8639163-0f20-4a48-e531-636d67a5ca75"
   },
   "outputs": [
    {
     "data": {
      "text/html": [
       "<div>\n",
       "<style scoped>\n",
       "    .dataframe tbody tr th:only-of-type {\n",
       "        vertical-align: middle;\n",
       "    }\n",
       "\n",
       "    .dataframe tbody tr th {\n",
       "        vertical-align: top;\n",
       "    }\n",
       "\n",
       "    .dataframe thead th {\n",
       "        text-align: right;\n",
       "    }\n",
       "</style>\n",
       "<table border=\"1\" class=\"dataframe\">\n",
       "  <thead>\n",
       "    <tr style=\"text-align: right;\">\n",
       "      <th></th>\n",
       "      <th>delivery_id</th>\n",
       "      <th>delivery_order_id</th>\n",
       "      <th>driver_id</th>\n",
       "      <th>delivery_distance_meters</th>\n",
       "      <th>delivery_status</th>\n",
       "    </tr>\n",
       "  </thead>\n",
       "  <tbody>\n",
       "    <tr>\n",
       "      <th>0</th>\n",
       "      <td>2174658</td>\n",
       "      <td>68413340</td>\n",
       "      <td>8378.0</td>\n",
       "      <td>5199.0</td>\n",
       "      <td>DELIVERED</td>\n",
       "    </tr>\n",
       "    <tr>\n",
       "      <th>1</th>\n",
       "      <td>2174660</td>\n",
       "      <td>68414309</td>\n",
       "      <td>2473.0</td>\n",
       "      <td>410.0</td>\n",
       "      <td>DELIVERED</td>\n",
       "    </tr>\n",
       "    <tr>\n",
       "      <th>2</th>\n",
       "      <td>2174661</td>\n",
       "      <td>68416230</td>\n",
       "      <td>7615.0</td>\n",
       "      <td>3784.0</td>\n",
       "      <td>DELIVERED</td>\n",
       "    </tr>\n",
       "    <tr>\n",
       "      <th>3</th>\n",
       "      <td>2174663</td>\n",
       "      <td>68412721</td>\n",
       "      <td>8378.0</td>\n",
       "      <td>5714.0</td>\n",
       "      <td>DELIVERED</td>\n",
       "    </tr>\n",
       "    <tr>\n",
       "      <th>4</th>\n",
       "      <td>2174675</td>\n",
       "      <td>68414018</td>\n",
       "      <td>10463.0</td>\n",
       "      <td>3746.0</td>\n",
       "      <td>DELIVERED</td>\n",
       "    </tr>\n",
       "  </tbody>\n",
       "</table>\n",
       "</div>"
      ],
      "text/plain": [
       "   delivery_id  delivery_order_id  driver_id  delivery_distance_meters  \\\n",
       "0      2174658           68413340     8378.0                    5199.0   \n",
       "1      2174660           68414309     2473.0                     410.0   \n",
       "2      2174661           68416230     7615.0                    3784.0   \n",
       "3      2174663           68412721     8378.0                    5714.0   \n",
       "4      2174675           68414018    10463.0                    3746.0   \n",
       "\n",
       "  delivery_status  \n",
       "0       DELIVERED  \n",
       "1       DELIVERED  \n",
       "2       DELIVERED  \n",
       "3       DELIVERED  \n",
       "4       DELIVERED  "
      ]
     },
     "execution_count": 9,
     "metadata": {},
     "output_type": "execute_result"
    }
   ],
   "source": [
    "#Pré-análise de entregas\n",
    "#Viausalizando dados\n",
    "df_deliveries.head()"
   ]
  },
  {
   "cell_type": "code",
   "execution_count": 10,
   "id": "178dcbdc",
   "metadata": {
    "colab": {
     "base_uri": "https://localhost:8080/"
    },
    "id": "178dcbdc",
    "outputId": "1442b7b8-7b57-48f3-f8ca-8ced6ca0320a"
   },
   "outputs": [
    {
     "data": {
      "text/plain": [
       "delivery_id                 378843\n",
       "delivery_order_id           358654\n",
       "driver_id                     4583\n",
       "delivery_distance_meters     16477\n",
       "delivery_status                  3\n",
       "dtype: int64"
      ]
     },
     "execution_count": 10,
     "metadata": {},
     "output_type": "execute_result"
    }
   ],
   "source": [
    "#Verificanco valores únicos \n",
    "df_deliveries.nunique()"
   ]
  },
  {
   "cell_type": "code",
   "execution_count": 11,
   "id": "a35ef7f3",
   "metadata": {
    "colab": {
     "base_uri": "https://localhost:8080/",
     "height": 297
    },
    "id": "a35ef7f3",
    "outputId": "6008b75d-756d-42a5-d696-fded5c2441dc"
   },
   "outputs": [
    {
     "data": {
      "text/html": [
       "<div>\n",
       "<style scoped>\n",
       "    .dataframe tbody tr th:only-of-type {\n",
       "        vertical-align: middle;\n",
       "    }\n",
       "\n",
       "    .dataframe tbody tr th {\n",
       "        vertical-align: top;\n",
       "    }\n",
       "\n",
       "    .dataframe thead th {\n",
       "        text-align: right;\n",
       "    }\n",
       "</style>\n",
       "<table border=\"1\" class=\"dataframe\">\n",
       "  <thead>\n",
       "    <tr style=\"text-align: right;\">\n",
       "      <th></th>\n",
       "      <th>delivery_id</th>\n",
       "      <th>delivery_order_id</th>\n",
       "      <th>driver_id</th>\n",
       "      <th>delivery_distance_meters</th>\n",
       "    </tr>\n",
       "  </thead>\n",
       "  <tbody>\n",
       "    <tr>\n",
       "      <th>count</th>\n",
       "      <td>3.788430e+05</td>\n",
       "      <td>3.788430e+05</td>\n",
       "      <td>362957.000000</td>\n",
       "      <td>3.787700e+05</td>\n",
       "    </tr>\n",
       "    <tr>\n",
       "      <th>mean</th>\n",
       "      <td>2.634216e+06</td>\n",
       "      <td>8.220422e+07</td>\n",
       "      <td>21001.777643</td>\n",
       "      <td>1.072136e+04</td>\n",
       "    </tr>\n",
       "    <tr>\n",
       "      <th>std</th>\n",
       "      <td>2.646553e+05</td>\n",
       "      <td>6.996909e+06</td>\n",
       "      <td>15520.652243</td>\n",
       "      <td>2.315392e+05</td>\n",
       "    </tr>\n",
       "    <tr>\n",
       "      <th>min</th>\n",
       "      <td>2.174658e+06</td>\n",
       "      <td>6.840903e+07</td>\n",
       "      <td>133.000000</td>\n",
       "      <td>0.000000e+00</td>\n",
       "    </tr>\n",
       "    <tr>\n",
       "      <th>25%</th>\n",
       "      <td>2.405588e+06</td>\n",
       "      <td>7.631298e+07</td>\n",
       "      <td>7615.000000</td>\n",
       "      <td>1.184000e+03</td>\n",
       "    </tr>\n",
       "    <tr>\n",
       "      <th>50%</th>\n",
       "      <td>2.637111e+06</td>\n",
       "      <td>8.308321e+07</td>\n",
       "      <td>18754.000000</td>\n",
       "      <td>2.073000e+03</td>\n",
       "    </tr>\n",
       "    <tr>\n",
       "      <th>75%</th>\n",
       "      <td>2.860334e+06</td>\n",
       "      <td>8.787972e+07</td>\n",
       "      <td>31050.000000</td>\n",
       "      <td>3.507000e+03</td>\n",
       "    </tr>\n",
       "    <tr>\n",
       "      <th>max</th>\n",
       "      <td>3.144739e+06</td>\n",
       "      <td>9.313982e+07</td>\n",
       "      <td>66459.000000</td>\n",
       "      <td>7.251291e+06</td>\n",
       "    </tr>\n",
       "  </tbody>\n",
       "</table>\n",
       "</div>"
      ],
      "text/plain": [
       "        delivery_id  delivery_order_id      driver_id  \\\n",
       "count  3.788430e+05       3.788430e+05  362957.000000   \n",
       "mean   2.634216e+06       8.220422e+07   21001.777643   \n",
       "std    2.646553e+05       6.996909e+06   15520.652243   \n",
       "min    2.174658e+06       6.840903e+07     133.000000   \n",
       "25%    2.405588e+06       7.631298e+07    7615.000000   \n",
       "50%    2.637111e+06       8.308321e+07   18754.000000   \n",
       "75%    2.860334e+06       8.787972e+07   31050.000000   \n",
       "max    3.144739e+06       9.313982e+07   66459.000000   \n",
       "\n",
       "       delivery_distance_meters  \n",
       "count              3.787700e+05  \n",
       "mean               1.072136e+04  \n",
       "std                2.315392e+05  \n",
       "min                0.000000e+00  \n",
       "25%                1.184000e+03  \n",
       "50%                2.073000e+03  \n",
       "75%                3.507000e+03  \n",
       "max                7.251291e+06  "
      ]
     },
     "execution_count": 11,
     "metadata": {},
     "output_type": "execute_result"
    }
   ],
   "source": [
    "#Resumo estatístico das colunas numéricas\n",
    "df_deliveries.describe()"
   ]
  },
  {
   "cell_type": "code",
   "execution_count": 12,
   "id": "v-1KoA6oIsi2",
   "metadata": {
    "colab": {
     "base_uri": "https://localhost:8080/"
    },
    "id": "v-1KoA6oIsi2",
    "outputId": "61875a0b-a317-484c-9a81-bb026983cccc"
   },
   "outputs": [
    {
     "data": {
      "text/plain": [
       "3630995.822"
      ]
     },
     "execution_count": 12,
     "metadata": {},
     "output_type": "execute_result"
    }
   ],
   "source": [
    "#Calculando em km a distancia percorrida em pedidos enviados\n",
    "distancia = df_deliveries.loc[df_deliveries[\"delivery_status\"] == 'DELIVERED', 'delivery_distance_meters']\n",
    "distancia.sum()/1000\n",
    "\n",
    "\n"
   ]
  },
  {
   "cell_type": "markdown",
   "id": "voehL6YeEf0E",
   "metadata": {
    "id": "voehL6YeEf0E"
   },
   "source": [
    "#### **Hubs**"
   ]
  },
  {
   "cell_type": "code",
   "execution_count": 13,
   "id": "b166552c",
   "metadata": {
    "colab": {
     "base_uri": "https://localhost:8080/",
     "height": 204
    },
    "id": "b166552c",
    "outputId": "6d773ee8-5e45-40b7-89dd-61387c75f3ec"
   },
   "outputs": [
    {
     "data": {
      "text/html": [
       "<div>\n",
       "<style scoped>\n",
       "    .dataframe tbody tr th:only-of-type {\n",
       "        vertical-align: middle;\n",
       "    }\n",
       "\n",
       "    .dataframe tbody tr th {\n",
       "        vertical-align: top;\n",
       "    }\n",
       "\n",
       "    .dataframe thead th {\n",
       "        text-align: right;\n",
       "    }\n",
       "</style>\n",
       "<table border=\"1\" class=\"dataframe\">\n",
       "  <thead>\n",
       "    <tr style=\"text-align: right;\">\n",
       "      <th></th>\n",
       "      <th>hub_id</th>\n",
       "      <th>hub_name</th>\n",
       "      <th>hub_city</th>\n",
       "      <th>hub_state</th>\n",
       "      <th>hub_latitude</th>\n",
       "      <th>hub_longitude</th>\n",
       "    </tr>\n",
       "  </thead>\n",
       "  <tbody>\n",
       "    <tr>\n",
       "      <th>0</th>\n",
       "      <td>2</td>\n",
       "      <td>BLUE SHOPPING</td>\n",
       "      <td>PORTO ALEGRE</td>\n",
       "      <td>RS</td>\n",
       "      <td>-30.047415</td>\n",
       "      <td>-51.213510</td>\n",
       "    </tr>\n",
       "    <tr>\n",
       "      <th>1</th>\n",
       "      <td>3</td>\n",
       "      <td>GREEN SHOPPING</td>\n",
       "      <td>PORTO ALEGRE</td>\n",
       "      <td>RS</td>\n",
       "      <td>-30.037415</td>\n",
       "      <td>-51.203520</td>\n",
       "    </tr>\n",
       "    <tr>\n",
       "      <th>2</th>\n",
       "      <td>4</td>\n",
       "      <td>RED SHOPPING</td>\n",
       "      <td>PORTO ALEGRE</td>\n",
       "      <td>RS</td>\n",
       "      <td>-30.021948</td>\n",
       "      <td>-51.208382</td>\n",
       "    </tr>\n",
       "    <tr>\n",
       "      <th>3</th>\n",
       "      <td>5</td>\n",
       "      <td>FUNK SHOPPING</td>\n",
       "      <td>RIO DE JANEIRO</td>\n",
       "      <td>RJ</td>\n",
       "      <td>-23.000750</td>\n",
       "      <td>-43.318282</td>\n",
       "    </tr>\n",
       "    <tr>\n",
       "      <th>4</th>\n",
       "      <td>8</td>\n",
       "      <td>GOLDEN SHOPPING</td>\n",
       "      <td>RIO DE JANEIRO</td>\n",
       "      <td>RJ</td>\n",
       "      <td>-22.921475</td>\n",
       "      <td>-43.234774</td>\n",
       "    </tr>\n",
       "  </tbody>\n",
       "</table>\n",
       "</div>"
      ],
      "text/plain": [
       "   hub_id         hub_name        hub_city hub_state  hub_latitude  \\\n",
       "0       2    BLUE SHOPPING    PORTO ALEGRE        RS    -30.047415   \n",
       "1       3   GREEN SHOPPING    PORTO ALEGRE        RS    -30.037415   \n",
       "2       4     RED SHOPPING    PORTO ALEGRE        RS    -30.021948   \n",
       "3       5    FUNK SHOPPING  RIO DE JANEIRO        RJ    -23.000750   \n",
       "4       8  GOLDEN SHOPPING  RIO DE JANEIRO        RJ    -22.921475   \n",
       "\n",
       "   hub_longitude  \n",
       "0     -51.213510  \n",
       "1     -51.203520  \n",
       "2     -51.208382  \n",
       "3     -43.318282  \n",
       "4     -43.234774  "
      ]
     },
     "execution_count": 13,
     "metadata": {},
     "output_type": "execute_result"
    }
   ],
   "source": [
    "#Pré-análise de Hubs\n",
    "#Viausalizando dados\n",
    "df_hubs.head()"
   ]
  },
  {
   "cell_type": "code",
   "execution_count": 14,
   "id": "m7JqGa0MNDsE",
   "metadata": {
    "colab": {
     "base_uri": "https://localhost:8080/",
     "height": 285
    },
    "id": "m7JqGa0MNDsE",
    "outputId": "48009627-74ca-4b3d-fdd8-771b674eb290"
   },
   "outputs": [
    {
     "data": {
      "text/plain": [
       "<AxesSubplot:>"
      ]
     },
     "execution_count": 14,
     "metadata": {},
     "output_type": "execute_result"
    },
    {
     "data": {
      "image/png": "[encoded data removed]",
      "text/plain": [
       "<Figure size 432x288 with 1 Axes>"
      ]
     },
     "metadata": {
      "needs_background": "light"
     },
     "output_type": "display_data"
    }
   ],
   "source": [
    "#Histograma dos estados com maior número de hubs\n",
    "df_hubs['hub_state'].hist()"
   ]
  },
  {
   "cell_type": "markdown",
   "id": "ikTJn5LIEkHa",
   "metadata": {
    "id": "ikTJn5LIEkHa"
   },
   "source": [
    "#### **Orders**\n",
    "\n"
   ]
  },
  {
   "cell_type": "code",
   "execution_count": 15,
   "id": "01a0b954",
   "metadata": {
    "colab": {
     "base_uri": "https://localhost:8080/",
     "height": 224
    },
    "id": "01a0b954",
    "outputId": "530a9ab5-fc18-4b22-c989-3884b217cac1"
   },
   "outputs": [
    {
     "data": {
      "text/html": [
       "<div>\n",
       "<style scoped>\n",
       "    .dataframe tbody tr th:only-of-type {\n",
       "        vertical-align: middle;\n",
       "    }\n",
       "\n",
       "    .dataframe tbody tr th {\n",
       "        vertical-align: top;\n",
       "    }\n",
       "\n",
       "    .dataframe thead th {\n",
       "        text-align: right;\n",
       "    }\n",
       "</style>\n",
       "<table border=\"1\" class=\"dataframe\">\n",
       "  <thead>\n",
       "    <tr style=\"text-align: right;\">\n",
       "      <th></th>\n",
       "      <th>order_id</th>\n",
       "      <th>store_id</th>\n",
       "      <th>channel_id</th>\n",
       "      <th>payment_order_id</th>\n",
       "      <th>delivery_order_id</th>\n",
       "      <th>order_status</th>\n",
       "      <th>order_amount</th>\n",
       "      <th>order_delivery_fee</th>\n",
       "      <th>order_delivery_cost</th>\n",
       "      <th>order_created_hour</th>\n",
       "      <th>...</th>\n",
       "      <th>order_moment_delivering</th>\n",
       "      <th>order_moment_delivered</th>\n",
       "      <th>order_moment_finished</th>\n",
       "      <th>order_metric_collected_time</th>\n",
       "      <th>order_metric_paused_time</th>\n",
       "      <th>order_metric_production_time</th>\n",
       "      <th>order_metric_walking_time</th>\n",
       "      <th>order_metric_expediton_speed_time</th>\n",
       "      <th>order_metric_transit_time</th>\n",
       "      <th>order_metric_cycle_time</th>\n",
       "    </tr>\n",
       "  </thead>\n",
       "  <tbody>\n",
       "    <tr>\n",
       "      <th>0</th>\n",
       "      <td>68405119</td>\n",
       "      <td>3512</td>\n",
       "      <td>5</td>\n",
       "      <td>68405119</td>\n",
       "      <td>68405119</td>\n",
       "      <td>CANCELED</td>\n",
       "      <td>62.7</td>\n",
       "      <td>0.0</td>\n",
       "      <td>NaN</td>\n",
       "      <td>0</td>\n",
       "      <td>...</td>\n",
       "      <td>NaN</td>\n",
       "      <td>NaN</td>\n",
       "      <td>NaN</td>\n",
       "      <td>NaN</td>\n",
       "      <td>NaN</td>\n",
       "      <td>NaN</td>\n",
       "      <td>NaN</td>\n",
       "      <td>NaN</td>\n",
       "      <td>NaN</td>\n",
       "      <td>NaN</td>\n",
       "    </tr>\n",
       "    <tr>\n",
       "      <th>1</th>\n",
       "      <td>68405123</td>\n",
       "      <td>3512</td>\n",
       "      <td>5</td>\n",
       "      <td>68405123</td>\n",
       "      <td>68405123</td>\n",
       "      <td>CANCELED</td>\n",
       "      <td>62.7</td>\n",
       "      <td>0.0</td>\n",
       "      <td>NaN</td>\n",
       "      <td>0</td>\n",
       "      <td>...</td>\n",
       "      <td>NaN</td>\n",
       "      <td>NaN</td>\n",
       "      <td>NaN</td>\n",
       "      <td>NaN</td>\n",
       "      <td>NaN</td>\n",
       "      <td>NaN</td>\n",
       "      <td>NaN</td>\n",
       "      <td>NaN</td>\n",
       "      <td>NaN</td>\n",
       "      <td>NaN</td>\n",
       "    </tr>\n",
       "    <tr>\n",
       "      <th>2</th>\n",
       "      <td>68405206</td>\n",
       "      <td>3512</td>\n",
       "      <td>5</td>\n",
       "      <td>68405206</td>\n",
       "      <td>68405206</td>\n",
       "      <td>CANCELED</td>\n",
       "      <td>115.5</td>\n",
       "      <td>0.0</td>\n",
       "      <td>NaN</td>\n",
       "      <td>0</td>\n",
       "      <td>...</td>\n",
       "      <td>NaN</td>\n",
       "      <td>NaN</td>\n",
       "      <td>NaN</td>\n",
       "      <td>NaN</td>\n",
       "      <td>NaN</td>\n",
       "      <td>NaN</td>\n",
       "      <td>NaN</td>\n",
       "      <td>NaN</td>\n",
       "      <td>NaN</td>\n",
       "      <td>NaN</td>\n",
       "    </tr>\n",
       "    <tr>\n",
       "      <th>3</th>\n",
       "      <td>68405465</td>\n",
       "      <td>3401</td>\n",
       "      <td>5</td>\n",
       "      <td>68405465</td>\n",
       "      <td>68405465</td>\n",
       "      <td>CANCELED</td>\n",
       "      <td>55.9</td>\n",
       "      <td>0.0</td>\n",
       "      <td>NaN</td>\n",
       "      <td>0</td>\n",
       "      <td>...</td>\n",
       "      <td>NaN</td>\n",
       "      <td>NaN</td>\n",
       "      <td>NaN</td>\n",
       "      <td>NaN</td>\n",
       "      <td>NaN</td>\n",
       "      <td>NaN</td>\n",
       "      <td>NaN</td>\n",
       "      <td>NaN</td>\n",
       "      <td>NaN</td>\n",
       "      <td>NaN</td>\n",
       "    </tr>\n",
       "    <tr>\n",
       "      <th>4</th>\n",
       "      <td>68406064</td>\n",
       "      <td>3401</td>\n",
       "      <td>5</td>\n",
       "      <td>68406064</td>\n",
       "      <td>68406064</td>\n",
       "      <td>CANCELED</td>\n",
       "      <td>37.9</td>\n",
       "      <td>0.0</td>\n",
       "      <td>NaN</td>\n",
       "      <td>0</td>\n",
       "      <td>...</td>\n",
       "      <td>NaN</td>\n",
       "      <td>NaN</td>\n",
       "      <td>NaN</td>\n",
       "      <td>NaN</td>\n",
       "      <td>NaN</td>\n",
       "      <td>NaN</td>\n",
       "      <td>NaN</td>\n",
       "      <td>NaN</td>\n",
       "      <td>NaN</td>\n",
       "      <td>NaN</td>\n",
       "    </tr>\n",
       "  </tbody>\n",
       "</table>\n",
       "<p>5 rows × 29 columns</p>\n",
       "</div>"
      ],
      "text/plain": [
       "   order_id  store_id  channel_id  payment_order_id  delivery_order_id  \\\n",
       "0  68405119      3512           5          68405119           68405119   \n",
       "1  68405123      3512           5          68405123           68405123   \n",
       "2  68405206      3512           5          68405206           68405206   \n",
       "3  68405465      3401           5          68405465           68405465   \n",
       "4  68406064      3401           5          68406064           68406064   \n",
       "\n",
       "  order_status  order_amount  order_delivery_fee  order_delivery_cost  \\\n",
       "0     CANCELED          62.7                 0.0                  NaN   \n",
       "1     CANCELED          62.7                 0.0                  NaN   \n",
       "2     CANCELED         115.5                 0.0                  NaN   \n",
       "3     CANCELED          55.9                 0.0                  NaN   \n",
       "4     CANCELED          37.9                 0.0                  NaN   \n",
       "\n",
       "   order_created_hour  ...  order_moment_delivering  order_moment_delivered  \\\n",
       "0                   0  ...                      NaN                     NaN   \n",
       "1                   0  ...                      NaN                     NaN   \n",
       "2                   0  ...                      NaN                     NaN   \n",
       "3                   0  ...                      NaN                     NaN   \n",
       "4                   0  ...                      NaN                     NaN   \n",
       "\n",
       "   order_moment_finished  order_metric_collected_time  \\\n",
       "0                    NaN                          NaN   \n",
       "1                    NaN                          NaN   \n",
       "2                    NaN                          NaN   \n",
       "3                    NaN                          NaN   \n",
       "4                    NaN                          NaN   \n",
       "\n",
       "  order_metric_paused_time order_metric_production_time  \\\n",
       "0                      NaN                          NaN   \n",
       "1                      NaN                          NaN   \n",
       "2                      NaN                          NaN   \n",
       "3                      NaN                          NaN   \n",
       "4                      NaN                          NaN   \n",
       "\n",
       "  order_metric_walking_time order_metric_expediton_speed_time  \\\n",
       "0                       NaN                               NaN   \n",
       "1                       NaN                               NaN   \n",
       "2                       NaN                               NaN   \n",
       "3                       NaN                               NaN   \n",
       "4                       NaN                               NaN   \n",
       "\n",
       "  order_metric_transit_time order_metric_cycle_time  \n",
       "0                       NaN                     NaN  \n",
       "1                       NaN                     NaN  \n",
       "2                       NaN                     NaN  \n",
       "3                       NaN                     NaN  \n",
       "4                       NaN                     NaN  \n",
       "\n",
       "[5 rows x 29 columns]"
      ]
     },
     "execution_count": 15,
     "metadata": {},
     "output_type": "execute_result"
    }
   ],
   "source": [
    "#Pré-análise de Pedidos\n",
    "#Viausalizando dados\n",
    "df_orders.head()"
   ]
  },
  {
   "cell_type": "code",
   "execution_count": 16,
   "id": "432f4a6e",
   "metadata": {
    "colab": {
     "base_uri": "https://localhost:8080/",
     "height": 164
    },
    "id": "432f4a6e",
    "outputId": "2f85a528-5b73-4796-df41-246b7cf9c0bf"
   },
   "outputs": [
    {
     "data": {
      "text/plain": [
       "order_id                             368999\n",
       "store_id                                951\n",
       "channel_id                               39\n",
       "payment_order_id                     368999\n",
       "delivery_order_id                    368999\n",
       "order_status                              2\n",
       "order_amount                          17444\n",
       "order_delivery_fee                      520\n",
       "order_delivery_cost                    3155\n",
       "order_created_hour                       24\n",
       "order_created_minute                     60\n",
       "order_created_day                        31\n",
       "order_created_month                       4\n",
       "order_created_year                        1\n",
       "order_moment_created                 340934\n",
       "order_moment_accepted                343900\n",
       "order_moment_ready                   328458\n",
       "order_moment_collected               313259\n",
       "order_moment_in_expedition           290327\n",
       "order_moment_delivering              328727\n",
       "order_moment_delivered                19523\n",
       "order_moment_finished                336815\n",
       "order_metric_collected_time            2590\n",
       "order_metric_paused_time               7653\n",
       "order_metric_production_time          14918\n",
       "order_metric_walking_time              3107\n",
       "order_metric_expediton_speed_time     13259\n",
       "order_metric_transit_time             12594\n",
       "order_metric_cycle_time               27544\n",
       "dtype: int64"
      ]
     },
     "execution_count": 16,
     "metadata": {},
     "output_type": "execute_result"
    }
   ],
   "source": [
    "#Quantificando dados únicos\n",
    "df_orders.nunique()\n"
   ]
  },
  {
   "cell_type": "code",
   "execution_count": 17,
   "id": "eekJw5DAT1ym",
   "metadata": {
    "colab": {
     "base_uri": "https://localhost:8080/",
     "height": 317
    },
    "id": "eekJw5DAT1ym",
    "outputId": "bc6e407a-87bd-46ff-b173-cbbccb3e1a22"
   },
   "outputs": [
    {
     "data": {
      "text/html": [
       "<div>\n",
       "<style scoped>\n",
       "    .dataframe tbody tr th:only-of-type {\n",
       "        vertical-align: middle;\n",
       "    }\n",
       "\n",
       "    .dataframe tbody tr th {\n",
       "        vertical-align: top;\n",
       "    }\n",
       "\n",
       "    .dataframe thead th {\n",
       "        text-align: right;\n",
       "    }\n",
       "</style>\n",
       "<table border=\"1\" class=\"dataframe\">\n",
       "  <thead>\n",
       "    <tr style=\"text-align: right;\">\n",
       "      <th></th>\n",
       "      <th>order_id</th>\n",
       "      <th>store_id</th>\n",
       "      <th>channel_id</th>\n",
       "      <th>payment_order_id</th>\n",
       "      <th>delivery_order_id</th>\n",
       "      <th>order_amount</th>\n",
       "      <th>order_delivery_fee</th>\n",
       "      <th>order_delivery_cost</th>\n",
       "      <th>order_created_hour</th>\n",
       "      <th>order_created_minute</th>\n",
       "      <th>order_created_day</th>\n",
       "      <th>order_created_month</th>\n",
       "      <th>order_created_year</th>\n",
       "      <th>order_metric_collected_time</th>\n",
       "      <th>order_metric_paused_time</th>\n",
       "      <th>order_metric_production_time</th>\n",
       "      <th>order_metric_walking_time</th>\n",
       "      <th>order_metric_expediton_speed_time</th>\n",
       "      <th>order_metric_transit_time</th>\n",
       "      <th>order_metric_cycle_time</th>\n",
       "    </tr>\n",
       "  </thead>\n",
       "  <tbody>\n",
       "    <tr>\n",
       "      <th>count</th>\n",
       "      <td>3.520200e+05</td>\n",
       "      <td>352020.000000</td>\n",
       "      <td>352020.000000</td>\n",
       "      <td>3.520200e+05</td>\n",
       "      <td>3.520200e+05</td>\n",
       "      <td>352020.000000</td>\n",
       "      <td>352020.000000</td>\n",
       "      <td>346020.000000</td>\n",
       "      <td>352020.000000</td>\n",
       "      <td>352020.000000</td>\n",
       "      <td>352020.000000</td>\n",
       "      <td>352020.000000</td>\n",
       "      <td>352020.0</td>\n",
       "      <td>315788.000000</td>\n",
       "      <td>296489.000000</td>\n",
       "      <td>340976.000000</td>\n",
       "      <td>293349.000000</td>\n",
       "      <td>333172.000000</td>\n",
       "      <td>342182.000000</td>\n",
       "      <td>351657.000000</td>\n",
       "    </tr>\n",
       "    <tr>\n",
       "      <th>mean</th>\n",
       "      <td>8.229440e+07</td>\n",
       "      <td>1182.129905</td>\n",
       "      <td>7.659536</td>\n",
       "      <td>8.229440e+07</td>\n",
       "      <td>8.229440e+07</td>\n",
       "      <td>100.259162</td>\n",
       "      <td>6.215922</td>\n",
       "      <td>7.580586</td>\n",
       "      <td>16.758741</td>\n",
       "      <td>29.423496</td>\n",
       "      <td>15.983106</td>\n",
       "      <td>2.687981</td>\n",
       "      <td>2021.0</td>\n",
       "      <td>2.751844</td>\n",
       "      <td>9.177341</td>\n",
       "      <td>61.712289</td>\n",
       "      <td>4.760959</td>\n",
       "      <td>19.092145</td>\n",
       "      <td>46.518219</td>\n",
       "      <td>155.843596</td>\n",
       "    </tr>\n",
       "    <tr>\n",
       "      <th>std</th>\n",
       "      <td>7.034817e+06</td>\n",
       "      <td>1137.413675</td>\n",
       "      <td>8.184526</td>\n",
       "      <td>7.034817e+06</td>\n",
       "      <td>7.034817e+06</td>\n",
       "      <td>233.536942</td>\n",
       "      <td>6.230836</td>\n",
       "      <td>3.792957</td>\n",
       "      <td>6.069445</td>\n",
       "      <td>17.218225</td>\n",
       "      <td>8.818673</td>\n",
       "      <td>1.099862</td>\n",
       "      <td>0.0</td>\n",
       "      <td>13.245979</td>\n",
       "      <td>65.777678</td>\n",
       "      <td>802.903520</td>\n",
       "      <td>16.902299</td>\n",
       "      <td>88.354148</td>\n",
       "      <td>752.684618</td>\n",
       "      <td>1225.229132</td>\n",
       "    </tr>\n",
       "    <tr>\n",
       "      <th>min</th>\n",
       "      <td>6.841006e+07</td>\n",
       "      <td>6.000000</td>\n",
       "      <td>1.000000</td>\n",
       "      <td>6.841006e+07</td>\n",
       "      <td>6.841006e+07</td>\n",
       "      <td>0.000000</td>\n",
       "      <td>0.000000</td>\n",
       "      <td>0.000000</td>\n",
       "      <td>0.000000</td>\n",
       "      <td>0.000000</td>\n",
       "      <td>1.000000</td>\n",
       "      <td>1.000000</td>\n",
       "      <td>2021.0</td>\n",
       "      <td>-1.470000</td>\n",
       "      <td>-2728.350000</td>\n",
       "      <td>0.000000</td>\n",
       "      <td>-1.420000</td>\n",
       "      <td>-0.820000</td>\n",
       "      <td>-4.100000</td>\n",
       "      <td>0.370000</td>\n",
       "    </tr>\n",
       "    <tr>\n",
       "      <th>25%</th>\n",
       "      <td>7.634870e+07</td>\n",
       "      <td>415.000000</td>\n",
       "      <td>5.000000</td>\n",
       "      <td>7.634870e+07</td>\n",
       "      <td>7.634870e+07</td>\n",
       "      <td>39.900000</td>\n",
       "      <td>0.000000</td>\n",
       "      <td>5.550000</td>\n",
       "      <td>15.000000</td>\n",
       "      <td>15.000000</td>\n",
       "      <td>8.000000</td>\n",
       "      <td>2.000000</td>\n",
       "      <td>2021.0</td>\n",
       "      <td>0.780000</td>\n",
       "      <td>1.170000</td>\n",
       "      <td>9.000000</td>\n",
       "      <td>2.150000</td>\n",
       "      <td>4.480000</td>\n",
       "      <td>11.830000</td>\n",
       "      <td>32.870000</td>\n",
       "    </tr>\n",
       "    <tr>\n",
       "      <th>50%</th>\n",
       "      <td>8.324197e+07</td>\n",
       "      <td>707.000000</td>\n",
       "      <td>5.000000</td>\n",
       "      <td>8.324197e+07</td>\n",
       "      <td>8.324197e+07</td>\n",
       "      <td>71.900000</td>\n",
       "      <td>6.900000</td>\n",
       "      <td>7.390000</td>\n",
       "      <td>17.000000</td>\n",
       "      <td>29.000000</td>\n",
       "      <td>16.000000</td>\n",
       "      <td>3.000000</td>\n",
       "      <td>2021.0</td>\n",
       "      <td>1.670000</td>\n",
       "      <td>2.500000</td>\n",
       "      <td>15.200000</td>\n",
       "      <td>3.570000</td>\n",
       "      <td>6.600000</td>\n",
       "      <td>16.700000</td>\n",
       "      <td>42.180000</td>\n",
       "    </tr>\n",
       "    <tr>\n",
       "      <th>75%</th>\n",
       "      <td>8.802002e+07</td>\n",
       "      <td>1454.000000</td>\n",
       "      <td>5.000000</td>\n",
       "      <td>8.802002e+07</td>\n",
       "      <td>8.802002e+07</td>\n",
       "      <td>122.350000</td>\n",
       "      <td>11.900000</td>\n",
       "      <td>8.800000</td>\n",
       "      <td>22.000000</td>\n",
       "      <td>44.000000</td>\n",
       "      <td>24.000000</td>\n",
       "      <td>4.000000</td>\n",
       "      <td>2021.0</td>\n",
       "      <td>3.030000</td>\n",
       "      <td>5.350000</td>\n",
       "      <td>22.230000</td>\n",
       "      <td>5.430000</td>\n",
       "      <td>10.330000</td>\n",
       "      <td>24.670000</td>\n",
       "      <td>55.550000</td>\n",
       "    </tr>\n",
       "    <tr>\n",
       "      <th>max</th>\n",
       "      <td>9.313982e+07</td>\n",
       "      <td>4679.000000</td>\n",
       "      <td>49.000000</td>\n",
       "      <td>9.313982e+07</td>\n",
       "      <td>9.313982e+07</td>\n",
       "      <td>100000.110000</td>\n",
       "      <td>990.110000</td>\n",
       "      <td>156.000000</td>\n",
       "      <td>23.000000</td>\n",
       "      <td>59.000000</td>\n",
       "      <td>31.000000</td>\n",
       "      <td>4.000000</td>\n",
       "      <td>2021.0</td>\n",
       "      <td>2050.400000</td>\n",
       "      <td>11712.280000</td>\n",
       "      <td>85662.030000</td>\n",
       "      <td>2735.520000</td>\n",
       "      <td>11718.200000</td>\n",
       "      <td>154261.100000</td>\n",
       "      <td>154277.320000</td>\n",
       "    </tr>\n",
       "  </tbody>\n",
       "</table>\n",
       "</div>"
      ],
      "text/plain": [
       "           order_id       store_id     channel_id  payment_order_id  \\\n",
       "count  3.520200e+05  352020.000000  352020.000000      3.520200e+05   \n",
       "mean   8.229440e+07    1182.129905       7.659536      8.229440e+07   \n",
       "std    7.034817e+06    1137.413675       8.184526      7.034817e+06   \n",
       "min    6.841006e+07       6.000000       1.000000      6.841006e+07   \n",
       "25%    7.634870e+07     415.000000       5.000000      7.634870e+07   \n",
       "50%    8.324197e+07     707.000000       5.000000      8.324197e+07   \n",
       "75%    8.802002e+07    1454.000000       5.000000      8.802002e+07   \n",
       "max    9.313982e+07    4679.000000      49.000000      9.313982e+07   \n",
       "\n",
       "       delivery_order_id   order_amount  order_delivery_fee  \\\n",
       "count       3.520200e+05  352020.000000       352020.000000   \n",
       "mean        8.229440e+07     100.259162            6.215922   \n",
       "std         7.034817e+06     233.536942            6.230836   \n",
       "min         6.841006e+07       0.000000            0.000000   \n",
       "25%         7.634870e+07      39.900000            0.000000   \n",
       "50%         8.324197e+07      71.900000            6.900000   \n",
       "75%         8.802002e+07     122.350000           11.900000   \n",
       "max         9.313982e+07  100000.110000          990.110000   \n",
       "\n",
       "       order_delivery_cost  order_created_hour  order_created_minute  \\\n",
       "count        346020.000000       352020.000000         352020.000000   \n",
       "mean              7.580586           16.758741             29.423496   \n",
       "std               3.792957            6.069445             17.218225   \n",
       "min               0.000000            0.000000              0.000000   \n",
       "25%               5.550000           15.000000             15.000000   \n",
       "50%               7.390000           17.000000             29.000000   \n",
       "75%               8.800000           22.000000             44.000000   \n",
       "max             156.000000           23.000000             59.000000   \n",
       "\n",
       "       order_created_day  order_created_month  order_created_year  \\\n",
       "count      352020.000000        352020.000000            352020.0   \n",
       "mean           15.983106             2.687981              2021.0   \n",
       "std             8.818673             1.099862                 0.0   \n",
       "min             1.000000             1.000000              2021.0   \n",
       "25%             8.000000             2.000000              2021.0   \n",
       "50%            16.000000             3.000000              2021.0   \n",
       "75%            24.000000             4.000000              2021.0   \n",
       "max            31.000000             4.000000              2021.0   \n",
       "\n",
       "       order_metric_collected_time  order_metric_paused_time  \\\n",
       "count                315788.000000             296489.000000   \n",
       "mean                      2.751844                  9.177341   \n",
       "std                      13.245979                 65.777678   \n",
       "min                      -1.470000              -2728.350000   \n",
       "25%                       0.780000                  1.170000   \n",
       "50%                       1.670000                  2.500000   \n",
       "75%                       3.030000                  5.350000   \n",
       "max                    2050.400000              11712.280000   \n",
       "\n",
       "       order_metric_production_time  order_metric_walking_time  \\\n",
       "count                 340976.000000              293349.000000   \n",
       "mean                      61.712289                   4.760959   \n",
       "std                      802.903520                  16.902299   \n",
       "min                        0.000000                  -1.420000   \n",
       "25%                        9.000000                   2.150000   \n",
       "50%                       15.200000                   3.570000   \n",
       "75%                       22.230000                   5.430000   \n",
       "max                    85662.030000                2735.520000   \n",
       "\n",
       "       order_metric_expediton_speed_time  order_metric_transit_time  \\\n",
       "count                      333172.000000              342182.000000   \n",
       "mean                           19.092145                  46.518219   \n",
       "std                            88.354148                 752.684618   \n",
       "min                            -0.820000                  -4.100000   \n",
       "25%                             4.480000                  11.830000   \n",
       "50%                             6.600000                  16.700000   \n",
       "75%                            10.330000                  24.670000   \n",
       "max                         11718.200000              154261.100000   \n",
       "\n",
       "       order_metric_cycle_time  \n",
       "count            351657.000000  \n",
       "mean                155.843596  \n",
       "std                1225.229132  \n",
       "min                   0.370000  \n",
       "25%                  32.870000  \n",
       "50%                  42.180000  \n",
       "75%                  55.550000  \n",
       "max              154277.320000  "
      ]
     },
     "execution_count": 17,
     "metadata": {},
     "output_type": "execute_result"
    }
   ],
   "source": [
    "#Resumo estatístico dos pedidos com status Finalizado\n",
    "pedidos_finalizados = df_orders.loc[df_orders['order_status'] == 'FINISHED' ]\n",
    "pedidos_finalizados.describe()"
   ]
  },
  {
   "cell_type": "code",
   "execution_count": 18,
   "id": "WkHIcdEwb2Am",
   "metadata": {
    "colab": {
     "base_uri": "https://localhost:8080/",
     "height": 265
    },
    "id": "WkHIcdEwb2Am",
    "outputId": "6fb64f72-f2ab-44d6-94ed-37d576a8fd6a"
   },
   "outputs": [
    {
     "data": {
      "text/plain": [
       "<AxesSubplot:ylabel='order_status'>"
      ]
     },
     "execution_count": 18,
     "metadata": {},
     "output_type": "execute_result"
    },
    {
     "data": {
      "image/png": "[encoded data removed]",
      "text/plain": [
       "<Figure size 432x288 with 1 Axes>"
      ]
     },
     "metadata": {},
     "output_type": "display_data"
    }
   ],
   "source": [
    "#Representação gráfica dos pedidos Finalizados x Cancelados\n",
    "df_orders['order_status'].value_counts().plot.pie(autopct='%1.0f%%')"
   ]
  },
  {
   "cell_type": "code",
   "execution_count": 19,
   "id": "P6EkhAB5f9G_",
   "metadata": {
    "colab": {
     "base_uri": "https://localhost:8080/",
     "height": 164
    },
    "id": "P6EkhAB5f9G_",
    "outputId": "95c6ef1c-5f52-4676-fa3e-752623c49f19"
   },
   "outputs": [
    {
     "data": {
      "image/png": "[encoded data removed]",
      "text/plain": [
       "<Figure size 432x288 with 1 Axes>"
      ]
     },
     "metadata": {
      "needs_background": "light"
     },
     "output_type": "display_data"
    }
   ],
   "source": [
    "#identificando os meses com maior quantidade de pedidos finalizados\n",
    "ax = sns.countplot(x=pedidos_finalizados['order_created_month'], data=pedidos_finalizados, palette=\"Set3\")"
   ]
  },
  {
   "cell_type": "markdown",
   "id": "RrzMcDFOEqr_",
   "metadata": {
    "id": "RrzMcDFOEqr_"
   },
   "source": [
    "#### **Payments**"
   ]
  },
  {
   "cell_type": "code",
   "execution_count": 20,
   "id": "894bd965",
   "metadata": {
    "id": "894bd965"
   },
   "outputs": [
    {
     "data": {
      "text/html": [
       "<div>\n",
       "<style scoped>\n",
       "    .dataframe tbody tr th:only-of-type {\n",
       "        vertical-align: middle;\n",
       "    }\n",
       "\n",
       "    .dataframe tbody tr th {\n",
       "        vertical-align: top;\n",
       "    }\n",
       "\n",
       "    .dataframe thead th {\n",
       "        text-align: right;\n",
       "    }\n",
       "</style>\n",
       "<table border=\"1\" class=\"dataframe\">\n",
       "  <thead>\n",
       "    <tr style=\"text-align: right;\">\n",
       "      <th></th>\n",
       "      <th>payment_id</th>\n",
       "      <th>payment_order_id</th>\n",
       "      <th>payment_amount</th>\n",
       "      <th>payment_fee</th>\n",
       "      <th>payment_method</th>\n",
       "      <th>payment_status</th>\n",
       "    </tr>\n",
       "  </thead>\n",
       "  <tbody>\n",
       "    <tr>\n",
       "      <th>0</th>\n",
       "      <td>4427917</td>\n",
       "      <td>68410055</td>\n",
       "      <td>118.44</td>\n",
       "      <td>0.00</td>\n",
       "      <td>VOUCHER</td>\n",
       "      <td>PAID</td>\n",
       "    </tr>\n",
       "    <tr>\n",
       "      <th>1</th>\n",
       "      <td>4427918</td>\n",
       "      <td>68410055</td>\n",
       "      <td>394.81</td>\n",
       "      <td>7.90</td>\n",
       "      <td>ONLINE</td>\n",
       "      <td>PAID</td>\n",
       "    </tr>\n",
       "    <tr>\n",
       "      <th>2</th>\n",
       "      <td>4427941</td>\n",
       "      <td>68412721</td>\n",
       "      <td>206.95</td>\n",
       "      <td>5.59</td>\n",
       "      <td>ONLINE</td>\n",
       "      <td>PAID</td>\n",
       "    </tr>\n",
       "    <tr>\n",
       "      <th>3</th>\n",
       "      <td>4427948</td>\n",
       "      <td>68413340</td>\n",
       "      <td>58.80</td>\n",
       "      <td>1.59</td>\n",
       "      <td>ONLINE</td>\n",
       "      <td>PAID</td>\n",
       "    </tr>\n",
       "    <tr>\n",
       "      <th>4</th>\n",
       "      <td>4427955</td>\n",
       "      <td>68414018</td>\n",
       "      <td>45.80</td>\n",
       "      <td>0.92</td>\n",
       "      <td>ONLINE</td>\n",
       "      <td>PAID</td>\n",
       "    </tr>\n",
       "  </tbody>\n",
       "</table>\n",
       "</div>"
      ],
      "text/plain": [
       "   payment_id  payment_order_id  payment_amount  payment_fee payment_method  \\\n",
       "0     4427917          68410055          118.44         0.00        VOUCHER   \n",
       "1     4427918          68410055          394.81         7.90         ONLINE   \n",
       "2     4427941          68412721          206.95         5.59         ONLINE   \n",
       "3     4427948          68413340           58.80         1.59         ONLINE   \n",
       "4     4427955          68414018           45.80         0.92         ONLINE   \n",
       "\n",
       "  payment_status  \n",
       "0           PAID  \n",
       "1           PAID  \n",
       "2           PAID  \n",
       "3           PAID  \n",
       "4           PAID  "
      ]
     },
     "execution_count": 20,
     "metadata": {},
     "output_type": "execute_result"
    }
   ],
   "source": [
    "#Pré-análise de Pagamentso\n",
    "#Viausalizando dados\n",
    "df_payments.head()"
   ]
  },
  {
   "cell_type": "code",
   "execution_count": 21,
   "id": "VxWK756WZhLa",
   "metadata": {
    "colab": {
     "base_uri": "https://localhost:8080/"
    },
    "id": "VxWK756WZhLa",
    "outputId": "e11075ef-481d-4753-e6f0-e5a471436869"
   },
   "outputs": [
    {
     "data": {
      "text/plain": [
       "ONLINE                      312377\n",
       "VOUCHER                      48570\n",
       "DEBIT                        12347\n",
       "MEAL_BENEFIT                  6687\n",
       "STORE_DIRECT_PAYMENT          6574\n",
       "CREDIT                        4966\n",
       "DEBIT_STORE                   1997\n",
       "VOUCHER_STORE                 1683\n",
       "PAYMENT_LINK                  1613\n",
       "CREDIT_STORE                  1266\n",
       "MONEY                         1190\n",
       "VOUCHER_DC                     465\n",
       "INSTALLMENT_CREDIT_STORE       452\n",
       "VOUCHER_OL                     347\n",
       "BANK_TRANSFER_DC               300\n",
       "Name: payment_method, dtype: int64"
      ]
     },
     "execution_count": 21,
     "metadata": {},
     "output_type": "execute_result"
    }
   ],
   "source": [
    "#Contagem dos pagamentos agrupados por método\n",
    "metodos_pagamento = df_payments['payment_method'].value_counts()\n",
    "metodos_pagamento"
   ]
  },
  {
   "cell_type": "code",
   "execution_count": 22,
   "id": "0b973a34",
   "metadata": {},
   "outputs": [
    {
     "data": {
      "image/png": "[encoded data removed]",
      "text/plain": [
       "<Figure size 432x288 with 1 Axes>"
      ]
     },
     "metadata": {
      "needs_background": "light"
     },
     "output_type": "display_data"
    }
   ],
   "source": [
    "#Representação visual dos métodos de pagamento utilizados\n",
    "ax = sns.countplot(y=\"payment_method\", data=df_payments, palette=\"Set3\")"
   ]
  },
  {
   "cell_type": "markdown",
   "id": "1fbe755e",
   "metadata": {
    "id": "evyraFqfEyfc"
   },
   "source": [
    "#### **Stores**"
   ]
  },
  {
   "cell_type": "code",
   "execution_count": 23,
   "id": "aae2da58",
   "metadata": {
    "id": "aae2da58"
   },
   "outputs": [
    {
     "data": {
      "text/html": [
       "<div>\n",
       "<style scoped>\n",
       "    .dataframe tbody tr th:only-of-type {\n",
       "        vertical-align: middle;\n",
       "    }\n",
       "\n",
       "    .dataframe tbody tr th {\n",
       "        vertical-align: top;\n",
       "    }\n",
       "\n",
       "    .dataframe thead th {\n",
       "        text-align: right;\n",
       "    }\n",
       "</style>\n",
       "<table border=\"1\" class=\"dataframe\">\n",
       "  <thead>\n",
       "    <tr style=\"text-align: right;\">\n",
       "      <th></th>\n",
       "      <th>store_id</th>\n",
       "      <th>hub_id</th>\n",
       "      <th>store_name</th>\n",
       "      <th>store_segment</th>\n",
       "      <th>store_plan_price</th>\n",
       "      <th>store_latitude</th>\n",
       "      <th>store_longitude</th>\n",
       "    </tr>\n",
       "  </thead>\n",
       "  <tbody>\n",
       "    <tr>\n",
       "      <th>0</th>\n",
       "      <td>3</td>\n",
       "      <td>2</td>\n",
       "      <td>CUMIURI</td>\n",
       "      <td>FOOD</td>\n",
       "      <td>0.0</td>\n",
       "      <td>NaN</td>\n",
       "      <td>NaN</td>\n",
       "    </tr>\n",
       "    <tr>\n",
       "      <th>1</th>\n",
       "      <td>6</td>\n",
       "      <td>3</td>\n",
       "      <td>PIMGUCIS DA VIVA</td>\n",
       "      <td>FOOD</td>\n",
       "      <td>0.0</td>\n",
       "      <td>-30.037415</td>\n",
       "      <td>-51.203520</td>\n",
       "    </tr>\n",
       "    <tr>\n",
       "      <th>2</th>\n",
       "      <td>8</td>\n",
       "      <td>3</td>\n",
       "      <td>RASMUR S</td>\n",
       "      <td>FOOD</td>\n",
       "      <td>0.0</td>\n",
       "      <td>-30.037415</td>\n",
       "      <td>-51.203520</td>\n",
       "    </tr>\n",
       "    <tr>\n",
       "      <th>3</th>\n",
       "      <td>53</td>\n",
       "      <td>8</td>\n",
       "      <td>PAPA SUCIS</td>\n",
       "      <td>FOOD</td>\n",
       "      <td>0.0</td>\n",
       "      <td>-22.921475</td>\n",
       "      <td>-43.234822</td>\n",
       "    </tr>\n",
       "    <tr>\n",
       "      <th>4</th>\n",
       "      <td>54</td>\n",
       "      <td>8</td>\n",
       "      <td>VUZPI PAZZIS</td>\n",
       "      <td>FOOD</td>\n",
       "      <td>0.0</td>\n",
       "      <td>-22.921475</td>\n",
       "      <td>-43.234822</td>\n",
       "    </tr>\n",
       "  </tbody>\n",
       "</table>\n",
       "</div>"
      ],
      "text/plain": [
       "   store_id  hub_id         store_name store_segment  store_plan_price  \\\n",
       "0         3       2            CUMIURI          FOOD               0.0   \n",
       "1         6       3  PIMGUCIS DA VIVA           FOOD               0.0   \n",
       "2         8       3          RASMUR S           FOOD               0.0   \n",
       "3        53       8        PAPA SUCIS           FOOD               0.0   \n",
       "4        54       8      VUZPI PAZZIS           FOOD               0.0   \n",
       "\n",
       "   store_latitude  store_longitude  \n",
       "0             NaN              NaN  \n",
       "1      -30.037415       -51.203520  \n",
       "2      -30.037415       -51.203520  \n",
       "3      -22.921475       -43.234822  \n",
       "4      -22.921475       -43.234822  "
      ]
     },
     "execution_count": 23,
     "metadata": {},
     "output_type": "execute_result"
    }
   ],
   "source": [
    "#Pré-análise de Lojas\n",
    "#Viausalizando dados\n",
    "df_stores.head()"
   ]
  },
  {
   "cell_type": "code",
   "execution_count": 24,
   "id": "0c20e7cf",
   "metadata": {},
   "outputs": [
    {
     "data": {
      "text/plain": [
       "<AxesSubplot:ylabel='store_segment'>"
      ]
     },
     "execution_count": 24,
     "metadata": {},
     "output_type": "execute_result"
    },
    {
     "data": {
      "image/png": "[encoded data removed]",
      "text/plain": [
       "<Figure size 432x288 with 1 Axes>"
      ]
     },
     "metadata": {},
     "output_type": "display_data"
    }
   ],
   "source": [
    "#Representação gráfica da distribuição das lojas por segmento\n",
    "df_stores['store_segment'].value_counts().plot.pie(autopct='%1.0f%%')"
   ]
  },
  {
   "cell_type": "markdown",
   "id": "c8ce41ed",
   "metadata": {
    "id": "c8ce41ed"
   },
   "source": [
    "## Conclusões via análise descritiva:\n",
    "- Channels: \n",
    "    - A maioria dos canais disponíveis são via MarketPalce, correnpondendo  65%.\n",
    "- Deliveries: \n",
    "    - No período estudado, foram percorridos mais de 4 milhões de km em entregas, que correpondem a aproximadamente 90 voltas no planeta Terra.\n",
    "- Hubs:\n",
    "    - O estado com maior número de hubs é São Paulo, seguido pelo Rio de Janeiro.\n",
    "- Orders: \n",
    "    - O dataset se refere ao período entre 01/01/2021 até 31/04/2021\n",
    "    - O tempo médio de trânsito é de 46 minutos\n",
    "    - O valor médio dos pedidos é de R\\$ 100,25\n",
    "    - 95% dos pedidos chegam ao status Finalizado\n",
    "    - Os meses 3 e 4 tiveram maior quantidade de pedidos finalizados\n",
    "- Payments:\n",
    "    - O método de pagamento mais utilizado é Online, seguido por Voucher e Débito\n",
    "- Stores:\n",
    "    - 60% das lojas fazem parte do segmento de 'Good',  e 40% do segmento 'Food'"
   ]
  }
 ],
 "metadata": {
  "colab": {
   "collapsed_sections": [],
   "name": "Delivery Center Analysis.ipynb",
   "provenance": []
  },
  "kernelspec": {
   "display_name": "Python 3 (ipykernel)",
   "language": "python",
   "name": "python3"
  },
  "language_info": {
   "codemirror_mode": {
    "name": "ipython",
    "version": 3
   },
   "file_extension": ".py",
   "mimetype": "text/x-python",
   "name": "python",
   "nbconvert_exporter": "python",
   "pygments_lexer": "ipython3",
   "version": "3.9.6"
  }
 },
 "nbformat": 4,
 "nbformat_minor": 5
}
