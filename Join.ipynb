{
 "cells": [
  {
   "cell_type": "code",
   "execution_count": 3,
   "id": "e2fcf3c7",
   "metadata": {},
   "outputs": [],
   "source": [
    "# Importações de bibliotecas\n",
    "\n",
    "# Manipulação e visualização de dados:\n",
    "\n",
    "import sklearn\n",
    "import datetime\n",
    "import numpy as np\n",
    "import pandas as pd\n",
    "import seaborn as sns \n",
    "import matplotlib as m\n",
    "import matplotlib.pyplot as plt"
   ]
  },
  {
   "cell_type": "code",
   "execution_count": 4,
   "id": "e1ba0b65",
   "metadata": {},
   "outputs": [],
   "source": [
    "#Carregando os datasets:\n",
    "df_channels = pd.read_csv(\"datasets/channels.csv\")\n",
    "df_deliveries = pd.read_csv(\"datasets/deliveries.csv\")\n",
    "df_drivers = pd.read_csv(\"datasets/drivers.csv\")\n",
    "df_hubs = pd.read_csv(\"datasets/hubs.csv\", encoding = \"ISO-8859-1\", engine='python')\n",
    "df_orders = pd.read_csv(\"datasets/payments.csv\")\n",
    "df_payments = pd.read_csv(\"datasets/payments.csv\")\n",
    "df_stores = pd.read_csv(\"datasets/stores.csv\", encoding = \"ISO-8859-1\", engine='python')"
   ]
  },
  {
   "cell_type": "code",
   "execution_count": 5,
   "id": "e164dada",
   "metadata": {},
   "outputs": [
    {
     "ename": "NameError",
     "evalue": "name 'df_dadosagrupados' is not defined",
     "output_type": "error",
     "traceback": [
      "\u001b[0;31m---------------------------------------------------------------------------\u001b[0m",
      "\u001b[0;31mNameError\u001b[0m                                 Traceback (most recent call last)",
      "\u001b[0;32m/var/folders/8l/t2j5hbjn2vbbsnbp1kcxq_t00000gn/T/ipykernel_25726/3256777424.py\u001b[0m in \u001b[0;36m<module>\u001b[0;34m\u001b[0m\n\u001b[0;32m----> 1\u001b[0;31m \u001b[0mdf_dadosagrupados\u001b[0m\u001b[0;34m.\u001b[0m\u001b[0mjoin\u001b[0m\u001b[0;34m(\u001b[0m\u001b[0mdf_orders\u001b[0m\u001b[0;34m,\u001b[0m \u001b[0mlsuffix\u001b[0m\u001b[0;34m=\u001b[0m\u001b[0;34m''\u001b[0m\u001b[0;34m)\u001b[0m\u001b[0;34m\u001b[0m\u001b[0;34m\u001b[0m\u001b[0m\n\u001b[0m",
      "\u001b[0;31mNameError\u001b[0m: name 'df_dadosagrupados' is not defined"
     ]
    }
   ],
   "source": [
    "df_dadosagrupados.join(df_orders, lsuffix='')"
   ]
  },
  {
   "cell_type": "code",
   "execution_count": null,
   "id": "47b4f22b",
   "metadata": {},
   "outputs": [],
   "source": []
  }
 ],
 "metadata": {
  "kernelspec": {
   "display_name": "Python 3 (ipykernel)",
   "language": "python",
   "name": "python3"
  },
  "language_info": {
   "codemirror_mode": {
    "name": "ipython",
    "version": 3
   },
   "file_extension": ".py",
   "mimetype": "text/x-python",
   "name": "python",
   "nbconvert_exporter": "python",
   "pygments_lexer": "ipython3",
   "version": "3.9.6"
  }
 },
 "nbformat": 4,
 "nbformat_minor": 5
}
